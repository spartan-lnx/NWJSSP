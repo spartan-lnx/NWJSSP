{
  "cells": [
    {
      "cell_type": "code",
      "source": [
        "!pip install pyinterval"
      ],
      "metadata": {
        "id": "tj8uY_urSMi5"
      },
      "execution_count": null,
      "outputs": []
    },
    {
      "cell_type": "code",
      "source": [
        "!wget https://raw.githubusercontent.com/spartan-lnx/NWJSSP/master/instances/ft06.txt\n",
        "!wget https://raw.githubusercontent.com/spartan-lnx/NWJSSP/master/instances/ft10.txt\n",
        "!wget https://raw.githubusercontent.com/spartan-lnx/NWJSSP/master/instances/la05.txt\n",
        "!wget https://raw.githubusercontent.com/spartan-lnx/NWJSSP/master/instances/la33.txt\n",
        "!wget https://raw.githubusercontent.com/spartan-lnx/NWJSSP/master/instances/la40.txt"
      ],
      "metadata": {
        "id": "hGgRUYacd4KG"
      },
      "execution_count": null,
      "outputs": []
    },
    {
      "cell_type": "code",
      "execution_count": null,
      "metadata": {
        "id": "wFXvZoC8SHQT"
      },
      "outputs": [],
      "source": [
        "%matplotlib inline\n",
        "import matplotlib.pyplot as plt\n",
        "import matplotlib as mpl\n",
        "import pandas as pd\n",
        "from interval import interval\n",
        "import random\n",
        "import statistics\n",
        "import numpy as np\n",
        "import time\n",
        "import seaborn as sns\n",
        "from scipy.stats import truncnorm"
      ]
    },
    {
      "cell_type": "code",
      "execution_count": null,
      "metadata": {
        "id": "bhsQm48vSHQV"
      },
      "outputs": [],
      "source": [
        "# The input files follow the \"Taillard\" format\n",
        "def read_instance(filename):\n",
        "    with open(filename) as f:\n",
        "        lines = f.readlines()\n",
        "\n",
        "    first_line = lines[0].split()\n",
        "    # Number of jobs\n",
        "    nb_jobs = int(first_line[0])\n",
        "    # Number of machines\n",
        "    nb_machines = int(first_line[1])\n",
        "\n",
        "    # Processing times for each job on each machine (given in the processing order)\n",
        "    processing_times_in_processing_order = [[int(lines[i].split()[j]) for j in range(nb_machines)] for i in\n",
        "                                            range(1, 1 + nb_jobs)]\n",
        "\n",
        "    # Processing order of machines for each job\n",
        "    machine_order = [[int(lines[i].split()[j]) - 1 for j in range(nb_machines)] for i in\n",
        "                     range(1 + nb_jobs, 1 + 2 * nb_jobs)]\n",
        "\n",
        "    # Reorder processing times: processing_time[j][m] is the processing time of the\n",
        "    # activity of job j that is processed on machine m\n",
        "    processing_time = [[processing_times_in_processing_order[j][machine_order[j].index(m)] for m in range(nb_machines)]\n",
        "                       for j in range(nb_jobs)]\n",
        "\n",
        "    # Trivial upper bound for the start times of the activities\n",
        "    max_start = sum(sum(processing_time[j]) for j in range(nb_jobs))\n",
        "\n",
        "    return (nb_jobs, nb_machines, processing_time, machine_order, max_start)"
      ]
    },
    {
      "cell_type": "code",
      "execution_count": null,
      "metadata": {
        "id": "dupP8j_oSHQW"
      },
      "outputs": [],
      "source": [
        "def visualize(schedule):\n",
        "\n",
        "    schedule = schedule.copy(deep=True)\n",
        "    \n",
        "    JOBS = sorted(list(schedule['Job'].unique()))\n",
        "    MACHINES = sorted(list(schedule['Machine'].unique()))\n",
        "    makespan = schedule['Finish'].max()\n",
        "    \n",
        "    bar_style = {'alpha':1.0, 'lw':25, 'solid_capstyle':'butt'}\n",
        "    text_style = {'color':'white', 'weight':'bold', 'ha':'center', 'va':'center'}\n",
        "    colors = mpl.cm.Dark2.colors\n",
        "\n",
        "    schedule.sort_values(by=['Job', 'Start'])\n",
        "    schedule.set_index(['Job', 'Machine'], inplace=True)\n",
        "\n",
        "    fig, ax = plt.subplots(2,1, figsize=(12, 5+(len(JOBS)+len(MACHINES))/4))\n",
        "\n",
        "    for jdx, j in enumerate(JOBS, 1):\n",
        "        for mdx, m in enumerate(MACHINES, 1):\n",
        "            if (j,m) in schedule.index:\n",
        "                xs = schedule.loc[(j,m), 'Start']\n",
        "                xf = schedule.loc[(j,m), 'Finish']\n",
        "                ax[0].plot([xs, xf], [jdx]*2, c=colors[mdx%7], **bar_style)\n",
        "                ax[0].text((xs + xf)/2, jdx, m, **text_style)\n",
        "                ax[1].plot([xs, xf], [mdx]*2, c=colors[jdx%7], **bar_style)\n",
        "                ax[1].text((xs + xf)/2, mdx, j, **text_style)\n",
        "                \n",
        "    ax[0].set_title('Job Schedule')\n",
        "    ax[0].set_ylabel('Job')\n",
        "    ax[1].set_title('Machine Schedule')\n",
        "    ax[1].set_ylabel('Machine')\n",
        "    \n",
        "    for idx, s in enumerate([JOBS, MACHINES]):\n",
        "        ax[idx].set_ylim(0.5, len(s) + 0.5)\n",
        "        ax[idx].set_yticks(range(1, 1 + len(s)))\n",
        "        ax[idx].set_yticklabels(s)\n",
        "        ax[idx].text(makespan, ax[idx].get_ylim()[1]+0.5, \"Makespan: {0:0.1f}\".format(makespan), ha='center', va='top')\n",
        "        ax[idx].plot([makespan]*2, ax[idx].get_ylim(), 'r--')\n",
        "        ax[idx].set_xlabel('Time')\n",
        "        ax[idx].grid(True)\n",
        "        \n",
        "    fig.tight_layout()"
      ]
    },
    {
      "cell_type": "code",
      "execution_count": null,
      "metadata": {
        "id": "xMit2ppNSHQX"
      },
      "outputs": [],
      "source": [
        "class Individual:\n",
        "    def __init__(self, chromosome):\n",
        "        self.chromosome = chromosome\n",
        "        self.fitness = np.inf\n",
        "\n",
        "    def __lt__(self, other):\n",
        "        return self.fitness < other.fitness\n",
        "\n",
        "    def __repr__(self):\n",
        "        return f'Chromsome: {self.chromosome}, Fitness: {self.fitness}'\n"
      ]
    },
    {
      "cell_type": "code",
      "execution_count": null,
      "metadata": {
        "id": "_gE_1f4bSHQY"
      },
      "outputs": [],
      "source": [
        "def is_overlap(interval_1, interval_2):\n",
        "    union = interval_1 & interval_2\n",
        "    if union == interval():\n",
        "        return False\n",
        "    if union[0][0] == union[0][1]:\n",
        "        return False\n",
        "    return True"
      ]
    },
    {
      "cell_type": "code",
      "execution_count": null,
      "metadata": {
        "id": "IRTbE1QLSHQY"
      },
      "outputs": [],
      "source": [
        "def is_collision(job_timetable, d, busy_times):\n",
        "    for _, operation in job_timetable.iterrows():\n",
        "            machine = int(operation['Machine'])\n",
        "            start = operation['Start'] + d\n",
        "            finish = operation['Finish'] + d\n",
        "            machine_busy_times = busy_times[machine]\n",
        "\n",
        "            for component in machine_busy_times.components:\n",
        "                if finish <= component[0][0]:\n",
        "                    continue\n",
        "                if is_overlap(interval[start, finish], component) == True:\n",
        "                    return True\n",
        "    return False\n",
        "    "
      ]
    },
    {
      "cell_type": "code",
      "execution_count": null,
      "metadata": {
        "id": "JS3C0dP0SHQZ"
      },
      "outputs": [],
      "source": [
        "def make_feasible_solution(chromosome, df, nb_machines):\n",
        "    \n",
        "    # ORDNERANDO VECTOR D, PRIMERO POR DELAYS Y LUEGO POR JOB\n",
        "    chromosome = sorted(chromosome, key=lambda item: (item[0], item[1]))\n",
        "\n",
        "    # INICIALIZAR PERIODOS OCUPADOS DE CADA MÁQUINA\n",
        "    busy_times = [interval()] * nb_machines\n",
        "\n",
        "    # CALENARIZAR TRABAJO POR TRABAJO\n",
        "    for index, (d, j) in enumerate(chromosome):\n",
        "        tmp = df[df['Job'] == j]\n",
        "\n",
        "        # VERIFICAR COLISIONES ENTRE LA NUEVA TAREA CALENDARIZADA\n",
        "        # CON DELAY 'd' Y EL CALENDARIO EXISTENTE\n",
        "        collision = is_collision(tmp, d, busy_times)\n",
        "\n",
        "        tmp = df[df['Job'] == j]\n",
        "\n",
        "        # SI NO HAY COLISION, CALENDARIZAR LA TAREA\n",
        "        if collision == False:\n",
        "            for i, operation in tmp.iterrows():\n",
        "                machine = int(operation['Machine'])\n",
        "                start = operation['Start'] + d\n",
        "                finish = operation['Finish'] + d\n",
        "                busy_times[machine] = busy_times[machine] | interval([start, finish])\n",
        "            continue\n",
        "\n",
        "        # SI HUBO COLISION CALENDARIZAR TRABAJO J LO MAS CERCANO A 0\n",
        "        posible_start_times = [0]\n",
        "\n",
        "        tmp = df[df['Job'] == j]\n",
        "        for _, operation in tmp.iterrows():\n",
        "            machine = int(operation['Machine'])\n",
        "            start = operation['Start']\n",
        "            finish = operation['Finish']\n",
        "            machine_busy_times = busy_times[machine]\n",
        "\n",
        "            for component in machine_busy_times.components:\n",
        "\n",
        "                # VERIFICAR SI EL TIEMPO DE FINALIZACION DE UNA OPERACION YA CALENDARIZADA\n",
        "                # ES MAYOR AL TIEMPO DE INICIO DE MI NUEVA OPERACION A CALENDARIZAR\n",
        "                # LO CUAL EVITA QUE COLISIONES\n",
        "                if start <= component[0][1]:\n",
        "                    posible_start_times.append(component[0][1] - start)\n",
        "\n",
        "        posible_start_times = list( dict.fromkeys(posible_start_times) )\n",
        "        posible_start_times.sort()\n",
        "\n",
        "        # ENCONTRAR EL TIEMPO DE INICIO QUE PERMITA CALENDARIZAR EL TRABAJO J, LO MAS CERCANO A 0\n",
        "        # TAL QUE SUS OPERACIONES NO COLISIONEN CON LAS OPERACIONES YA CALENDARIZADAS\n",
        "        for st in posible_start_times:\n",
        "            tmp = df[df['Job'] == j]\n",
        "            collision = is_collision(tmp, st, busy_times)\n",
        "\n",
        "            if collision == False:\n",
        "\n",
        "                # DELAY SIN COLISIONES\n",
        "                delta = st\n",
        "                break\n",
        "        \n",
        "        tmp = df[df['Job'] == j]\n",
        "        for i, operation in tmp.iterrows():\n",
        "            machine = int(operation['Machine'])\n",
        "            start = operation['Start'] + delta\n",
        "            finish = operation['Finish'] + delta\n",
        "            busy_times[machine] = busy_times[machine] | interval([start, finish])\n",
        "\n",
        "        # MODIFICAR EL CROMOSOMA, PARA QUE EL TRABAJO J = 'index' PUEDA SER CALENDARIZADO CORRECTAMENTE\n",
        "        chromosome[index][0] = int(delta)\n",
        "\n",
        "    # SI EL TIEMPO DE INICIO DEL PRIMER TRABAJO ES > 0, RECORRER TODO EL CALENDARIO A LA IZQUIERDA\n",
        "    # TAL QUE NO EXISTA UNA BRECHA ENTRE EL TIEMPO 0 Y EL TIEMPO DE INICIO DEL PRIMER TRABAJO\n",
        "    minimum = int(min(chromosome, key=lambda item: item[0])[0])\n",
        "    if minimum > 0:\n",
        "        for index in range(len(chromosome)):\n",
        "            chromosome[index][0] -= minimum\n",
        "    return chromosome"
      ]
    },
    {
      "cell_type": "code",
      "execution_count": null,
      "metadata": {
        "id": "reK6H_s2SHQZ"
      },
      "outputs": [],
      "source": [
        "def decode(chromosome, df):\n",
        "    df = df.copy(deep=True)\n",
        "\n",
        "    for d, j in chromosome:\n",
        "        df.loc[df['Job'] == j, 'Start'] += d\n",
        "        df.loc[df['Job'] == j, 'Finish'] += d\n",
        "\n",
        "    return df"
      ]
    },
    {
      "cell_type": "code",
      "execution_count": null,
      "metadata": {
        "id": "0ztYB8yYSHQa"
      },
      "outputs": [],
      "source": [
        "def tournament_selection(population, k):\n",
        "    parents = random.choices(population, k=k)\n",
        "    parents = sorted(parents, key=lambda agent: agent.fitness, reverse=False)\n",
        "    return parents[0]"
      ]
    },
    {
      "cell_type": "markdown",
      "metadata": {
        "id": "Rs9aqUn8SHQa"
      },
      "source": [
        "# Obtener las cotas superiores de cada máquina"
      ]
    },
    {
      "cell_type": "code",
      "execution_count": null,
      "metadata": {
        "id": "dtJhpH_wSHQc"
      },
      "outputs": [],
      "source": [
        "def calculate_max_starts(processing_time,max_start):\n",
        "    # SUMATORIA DE TODAS LAS OPERACIONES DE CADA JOB\n",
        "    processing_times_per_job = [sum(processing_time[i]) for i in range(len(processing_time))]\n",
        "\n",
        "    # COTA SUPERIOR PARA CADA JOB\n",
        "    max_starts_of_jobs = list(map(lambda x:max_start-x, processing_times_per_job))\n",
        "\n",
        "    return max_starts_of_jobs"
      ]
    },
    {
      "cell_type": "markdown",
      "metadata": {
        "id": "i7Izq0aLSHQc"
      },
      "source": [
        "# Generar un calendario donde cada trabajo inicia en tiempo 0"
      ]
    },
    {
      "cell_type": "code",
      "execution_count": null,
      "metadata": {
        "id": "xBsEFLsDSHQd"
      },
      "outputs": [],
      "source": [
        "def generate_initial_calendar(nb_jobs,nb_machines,machine_order,processing_time):\n",
        "    expanded_jobs = []\n",
        "    for j in range(nb_jobs):\n",
        "        time = 0\n",
        "        for k in range(nb_machines):\n",
        "            machine = machine_order[j][k]\n",
        "            expanded_jobs.append(\n",
        "                {'Job': j,\n",
        "                'Machine': machine,\n",
        "                'Start': time, \n",
        "                'Duration': processing_time[j][machine], \n",
        "                'Finish': time + processing_time[j][machine]}\n",
        "            )\n",
        "            time += processing_time[j][machine]\n",
        "\n",
        "    return pd.DataFrame(expanded_jobs)"
      ]
    },
    {
      "cell_type": "markdown",
      "metadata": {
        "id": "EE1GwpqySHQd"
      },
      "source": [
        "# UMDAc"
      ]
    },
    {
      "cell_type": "code",
      "execution_count": null,
      "metadata": {
        "id": "9jJWmhC9SHQd"
      },
      "outputs": [],
      "source": [
        "def UMDAc(POP_SIZE,GENERATIONS,max_start,max_starts_of_jobs,nb_jobs,timetable,tournament_size,nb_machines):\n",
        "\n",
        "    # GENERANDO POBLACIÓN INICIAL\n",
        "    population = []\n",
        "\n",
        "    best_individual = Individual([[random.randint(0, max_starts_of_jobs[i]), i] for i in range(nb_jobs)])\n",
        "\n",
        "    for _ in range(POP_SIZE):\n",
        "        chromosome = [[random.randint(0, max_starts_of_jobs[i]), i] for i in range(nb_jobs)]\n",
        "        ind = Individual(chromosome)\n",
        "        population.append(ind)\n",
        "\n",
        "    for i in range(GENERATIONS):\n",
        "        new_pop = []\n",
        "        for individual in population:\n",
        "\n",
        "            # HACER SOLUCION VALIDA\n",
        "            feasible = make_feasible_solution(individual.chromosome, timetable, nb_machines)\n",
        "            ind = Individual(feasible)\n",
        "            schedule = decode(feasible, timetable)\n",
        "            ind.fitness = schedule['Finish'].max()\n",
        "\n",
        "            if ind.fitness < best_individual.fitness:\n",
        "                best_individual = ind\n",
        "            \n",
        "            new_pop.append(ind)\n",
        "        \n",
        "        bests = []\n",
        "        for _ in range(POP_SIZE//2):\n",
        "            ind = tournament_selection(new_pop, tournament_size)\n",
        "            bests.append(ind)\n",
        "\n",
        "        bests.sort()\n",
        "\n",
        "        if new_pop[0].fitness < max_start:\n",
        "            max_start = bests[0].fitness\n",
        "\n",
        "        miu_dev = []\n",
        "        \n",
        "        for j in range(nb_jobs):\n",
        "            vals = []\n",
        "            for k in range(len(bests)):\n",
        "                vals.append(bests[k].chromosome[j][0])\n",
        "            miu = statistics.mean(vals)\n",
        "            std = statistics.stdev(vals)\n",
        "            miu_dev.append((miu, std))\n",
        "\n",
        "        population = []\n",
        "        for _ in range(POP_SIZE):\n",
        "            chromosome = [[int(truncnorm.rvs(a=0, b=max_start, loc=miu_dev[i][0], scale=miu_dev[i][1])), i] for i in range(nb_jobs)]\n",
        "            ind = Individual(chromosome)\n",
        "            population.append(ind)\n",
        "\n",
        "    return best_individual\n"
      ]
    },
    {
      "cell_type": "code",
      "execution_count": null,
      "metadata": {
        "id": "41XKXIWmSHQe"
      },
      "outputs": [],
      "source": [
        "def test(pop_size, gen_size, runs, filename, tournament_size,bks):\n",
        "    \n",
        "    nb_jobs, nb_machines, processing_time, machine_order, max_start = read_instance(filename)\n",
        "    max_starts_of_jobs = calculate_max_starts(processing_time,max_start)\n",
        "    timetable = generate_initial_calendar(nb_jobs, nb_machines,machine_order,processing_time)\n",
        "    \n",
        "    results = []\n",
        "    times = []\n",
        "\n",
        "    for _ in range(runs):\n",
        "        begining = time.time()\n",
        "        best_individual = UMDAc(pop_size,gen_size,max_start,max_starts_of_jobs,nb_jobs,timetable,tournament_size,nb_machines)\n",
        "        end = time.time()\n",
        "        results.append(best_individual)\n",
        "        total_time = end - begining\n",
        "        times.append(total_time)\n",
        "\n",
        "    avg = np.mean([ind.fitness for ind in results])\n",
        "    std = np.std([ind.fitness for ind in results])\n",
        "    best_ind = min([ind.fitness for ind in results])\n",
        "\n",
        "    time_avg = np.mean(times)\n",
        "    time_std = np.std(times)\n",
        "    prd = ((best_ind - bks)/bks) * 100\n",
        "    aprd = ((avg - bks)/bks) * 100\n",
        "    print(f'{filename} | ({nb_jobs},{nb_machines}) | {bks} | {avg:.2f} | {std:.2f} | {time_avg:.2f} | {time_std:.2f} | {best_ind} | {prd:.2f} | {aprd:.2f}')\n",
        "    return results"
      ]
    },
    {
      "cell_type": "code",
      "execution_count": null,
      "metadata": {
        "colab": {
          "base_uri": "https://localhost:8080/"
        },
        "id": "FJ5aL2BOSHQe",
        "outputId": "e8d6b89b-acdb-44a4-8251-ac9ab3d471e7"
      },
      "outputs": [
        {
          "output_type": "stream",
          "name": "stdout",
          "text": [
            "Instance Name | (n,m) | BKS | fitness avg | fitness std | time avg | time std | best | prd | aprd\n",
            "ft06.txt | (6,6) | 73 | 73.00 | 0.00 | 106.47 | 0.00 | 73 | 0.00 | 0.00\n"
          ]
        }
      ],
      "source": [
        "print('Instance Name | (n,m) | BKS | fitness avg | fitness std | time avg | time std | best | prd | aprd')\n",
        "ft06 = test(filename='ft06.txt',gen_size=30,pop_size=60,runs=1,tournament_size=5,bks=73)\n",
        "# la05 = test(filename='la05.txt',gen_size=30,pop_size=60,runs=20,tournament_size=5,bks=777)\n",
        "# ft10 = test(filename='ft10.txt',gen_size=30,pop_size=60,runs=20,tournament_size=5,bks=1607)\n",
        "# la40 = test(filename='la40.txt',gen_size=30,pop_size=60,runs=20,tournament_size=5,bks=2580)\n",
        "# la33 = test(filename='la33.txt',gen_size=30,pop_size=60,runs=20,tournament_size=5,bks=3413)"
      ]
    },
    {
      "cell_type": "markdown",
      "source": [
        "# Visualizar un calendario de la instancia \"ft06\"\n",
        "\n"
      ],
      "metadata": {
        "id": "6PsIQqfAVyp6"
      }
    },
    {
      "cell_type": "code",
      "execution_count": null,
      "metadata": {
        "colab": {
          "base_uri": "https://localhost:8080/",
          "height": 588
        },
        "id": "BIsv0z01SHQf",
        "outputId": "9012548c-9ed7-4bec-a3a6-f20e84a992cc"
      },
      "outputs": [
        {
          "output_type": "display_data",
          "data": {
            "text/plain": [
              "<Figure size 864x576 with 2 Axes>"
            ],
            "image/png": "[encoded data removed]"
          },
          "metadata": {
            "needs_background": "light"
          }
        }
      ],
      "source": [
        "# Obtener un individuo\n",
        "individuo = ft06[0].chromosome\n",
        "\n",
        "# Obtener parametros de la instancia\n",
        "nb_jobs, nb_machines, processing_time, machine_order, max_start = read_instance('ft06.txt')\n",
        "\n",
        "# Generar un calendario inicial\n",
        "timetable = generate_initial_calendar(nb_jobs, nb_machines,machine_order,processing_time)\n",
        "\n",
        "# Actualizar calendario agregando los retardos de 'individuo'\n",
        "df1 = decode(individuo,timetable)\n",
        "\n",
        "# Visualizar calendario(diagrama de Gantt)\n",
        "visualize(df1)"
      ]
    }
  ],
  "metadata": {
    "interpreter": {
      "hash": "df0af5a0e77c77bc32352cb9e59ae9738b42a3137979606339c61c6586eaff60"
    },
    "kernelspec": {
      "display_name": "Python 3 (ipykernel)",
      "language": "python",
      "name": "python3"
    },
    "language_info": {
      "codemirror_mode": {
        "name": "ipython",
        "version": 3
      },
      "file_extension": ".py",
      "mimetype": "text/x-python",
      "name": "python",
      "nbconvert_exporter": "python",
      "pygments_lexer": "ipython3",
      "version": "3.10.4"
    },
    "colab": {
      "name": "nwjssp-umdac-morfin-orozco.ipynb",
      "provenance": []
    }
  },
  "nbformat": 4,
  "nbformat_minor": 0
}