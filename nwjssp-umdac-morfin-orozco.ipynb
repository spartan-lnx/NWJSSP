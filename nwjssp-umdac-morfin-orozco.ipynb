{
 "cells": [
  {
   "cell_type": "code",
   "execution_count": 61,
   "metadata": {},
   "outputs": [],
   "source": [
    "%matplotlib inline\n",
    "\n",
    "import matplotlib.pyplot as plt\n",
    "import matplotlib as mpl\n",
    "import pandas as pd\n",
    "from interval import interval\n",
    "import random\n",
    "import statistics\n",
    "import numpy as np\n",
    "import time\n",
    "import seaborn as sns\n",
    "from scipy.stats import truncnorm"
   ]
  },
  {
   "cell_type": "code",
   "execution_count": 62,
   "metadata": {},
   "outputs": [],
   "source": [
    "# The input files follow the \"Taillard\" format\n",
    "def read_instance(filename):\n",
    "    with open(filename) as f:\n",
    "        lines = f.readlines()\n",
    "\n",
    "    first_line = lines[0].split()\n",
    "    # Number of jobs\n",
    "    nb_jobs = int(first_line[0])\n",
    "    # Number of machines\n",
    "    nb_machines = int(first_line[1])\n",
    "\n",
    "    # Processing times for each job on each machine (given in the processing order)\n",
    "    processing_times_in_processing_order = [[int(lines[i].split()[j]) for j in range(nb_machines)] for i in\n",
    "                                            range(1, 1 + nb_jobs)]\n",
    "\n",
    "    # Processing order of machines for each job\n",
    "    machine_order = [[int(lines[i].split()[j]) - 1 for j in range(nb_machines)] for i in\n",
    "                     range(1 + nb_jobs, 1 + 2 * nb_jobs)]\n",
    "\n",
    "    # Reorder processing times: processing_time[j][m] is the processing time of the\n",
    "    # activity of job j that is processed on machine m\n",
    "    processing_time = [[processing_times_in_processing_order[j][machine_order[j].index(m)] for m in range(nb_machines)]\n",
    "                       for j in range(nb_jobs)]\n",
    "\n",
    "    # Trivial upper bound for the start times of the activities\n",
    "    max_start = sum(sum(processing_time[j]) for j in range(nb_jobs))\n",
    "\n",
    "    return (nb_jobs, nb_machines, processing_time, machine_order, max_start)"
   ]
  },
  {
   "cell_type": "code",
   "execution_count": 63,
   "metadata": {},
   "outputs": [],
   "source": [
    "def visualize(schedule):\n",
    "\n",
    "    schedule = schedule.copy(deep=True)\n",
    "    \n",
    "    JOBS = sorted(list(schedule['Job'].unique()))\n",
    "    MACHINES = sorted(list(schedule['Machine'].unique()))\n",
    "    makespan = schedule['Finish'].max()\n",
    "    \n",
    "    bar_style = {'alpha':1.0, 'lw':25, 'solid_capstyle':'butt'}\n",
    "    text_style = {'color':'white', 'weight':'bold', 'ha':'center', 'va':'center'}\n",
    "    colors = mpl.cm.Dark2.colors\n",
    "\n",
    "    schedule.sort_values(by=['Job', 'Start'])\n",
    "    schedule.set_index(['Job', 'Machine'], inplace=True)\n",
    "\n",
    "    fig, ax = plt.subplots(2,1, figsize=(12, 5+(len(JOBS)+len(MACHINES))/4))\n",
    "\n",
    "    for jdx, j in enumerate(JOBS, 1):\n",
    "        for mdx, m in enumerate(MACHINES, 1):\n",
    "            if (j,m) in schedule.index:\n",
    "                xs = schedule.loc[(j,m), 'Start']\n",
    "                xf = schedule.loc[(j,m), 'Finish']\n",
    "                ax[0].plot([xs, xf], [jdx]*2, c=colors[mdx%7], **bar_style)\n",
    "                ax[0].text((xs + xf)/2, jdx, m, **text_style)\n",
    "                ax[1].plot([xs, xf], [mdx]*2, c=colors[jdx%7], **bar_style)\n",
    "                ax[1].text((xs + xf)/2, mdx, j, **text_style)\n",
    "                \n",
    "    ax[0].set_title('Job Schedule')\n",
    "    ax[0].set_ylabel('Job')\n",
    "    ax[1].set_title('Machine Schedule')\n",
    "    ax[1].set_ylabel('Machine')\n",
    "    \n",
    "    for idx, s in enumerate([JOBS, MACHINES]):\n",
    "        ax[idx].set_ylim(0.5, len(s) + 0.5)\n",
    "        ax[idx].set_yticks(range(1, 1 + len(s)))\n",
    "        ax[idx].set_yticklabels(s)\n",
    "        ax[idx].text(makespan, ax[idx].get_ylim()[1]+0.5, \"Makespan: {0:0.1f}\".format(makespan), ha='center', va='top')\n",
    "        ax[idx].plot([makespan]*2, ax[idx].get_ylim(), 'r--')\n",
    "        ax[idx].set_xlabel('Time')\n",
    "        ax[idx].grid(True)\n",
    "        \n",
    "    fig.tight_layout()"
   ]
  },
  {
   "cell_type": "code",
   "execution_count": 64,
   "metadata": {},
   "outputs": [],
   "source": [
    "class Individual:\n",
    "    def __init__(self, chromosome):\n",
    "        self.chromosome = chromosome\n",
    "        self.fitness = np.inf\n",
    "\n",
    "    def __lt__(self, other):\n",
    "        return self.fitness < other.fitness\n",
    "\n",
    "    def __repr__(self):\n",
    "        return f'Chromsome: {self.chromosome}, Fitness: {self.fitness}'\n"
   ]
  },
  {
   "cell_type": "code",
   "execution_count": 65,
   "metadata": {},
   "outputs": [],
   "source": [
    "def is_overlap(interval_1, interval_2):\n",
    "    union = interval_1 & interval_2\n",
    "    if union == interval():\n",
    "        return False\n",
    "    if union[0][0] == union[0][1]:\n",
    "        return False\n",
    "    return True"
   ]
  },
  {
   "cell_type": "code",
   "execution_count": 66,
   "metadata": {},
   "outputs": [],
   "source": [
    "def is_collision(job_timetable, d, busy_times):\n",
    "    for _, operation in job_timetable.iterrows():\n",
    "            machine = int(operation['Machine'])\n",
    "            start = operation['Start'] + d\n",
    "            finish = operation['Finish'] + d\n",
    "            machine_busy_times = busy_times[machine]\n",
    "\n",
    "            for component in machine_busy_times.components:\n",
    "                if finish <= component[0][0]:\n",
    "                    continue\n",
    "                if is_overlap(interval[start, finish], component) == True:\n",
    "                    return True\n",
    "    return False\n",
    "    "
   ]
  },
  {
   "cell_type": "code",
   "execution_count": 67,
   "metadata": {},
   "outputs": [],
   "source": [
    "def make_feasible_solution(chromosome, df, nb_machines):\n",
    "    \n",
    "    # ORDNERANDO VECTOR D, PRIMERO POR DELAYS Y LUEGO POR JOB\n",
    "    chromosome = sorted(chromosome, key=lambda item: (item[0], item[1]))\n",
    "\n",
    "    # INICIALIZAR PERIODOS OCUPADOS DE CADA MÁQUINA\n",
    "    busy_times = [interval()] * nb_machines\n",
    "\n",
    "    # CALENARIZAR TRABAJO POR TRABAJO\n",
    "    for index, (d, j) in enumerate(chromosome):\n",
    "        tmp = df[df['Job'] == j]\n",
    "\n",
    "        # VERIFICAR COLISIONES ENTRE LA NUEVA TAREA CALENDARIZADA\n",
    "        # CON DELAY 'd' Y EL CALENDARIO EXISTENTE\n",
    "        collision = is_collision(tmp, d, busy_times)\n",
    "\n",
    "        tmp = df[df['Job'] == j]\n",
    "\n",
    "        # SI NO HAY COLISION, CALENDARIZAR LA TAREA\n",
    "        if collision == False:\n",
    "            for i, operation in tmp.iterrows():\n",
    "                machine = int(operation['Machine'])\n",
    "                start = operation['Start'] + d\n",
    "                finish = operation['Finish'] + d\n",
    "                busy_times[machine] = busy_times[machine] | interval([start, finish])\n",
    "            continue\n",
    "\n",
    "        # SI HUBO COLISION CALENDARIZAR TRABAJO J LO MAS CERCANO A 0\n",
    "        posible_start_times = [0]\n",
    "\n",
    "        tmp = df[df['Job'] == j]\n",
    "        for _, operation in tmp.iterrows():\n",
    "            machine = int(operation['Machine'])\n",
    "            start = operation['Start']\n",
    "            finish = operation['Finish']\n",
    "            machine_busy_times = busy_times[machine]\n",
    "\n",
    "            for component in machine_busy_times.components:\n",
    "\n",
    "                # VERIFICAR SI EL TIEMPO DE FINALIZACION DE UNA OPERACION YA CALENDARIZADA\n",
    "                # ES MAYOR AL TIEMPO DE INICIO DE MI NUEVA OPERACION A CALENDARIZAR\n",
    "                # LO CUAL EVITA QUE COLISIONES\n",
    "                if start <= component[0][1]:\n",
    "                    posible_start_times.append(component[0][1] - start)\n",
    "\n",
    "        posible_start_times = list( dict.fromkeys(posible_start_times) )\n",
    "        posible_start_times.sort()\n",
    "\n",
    "        # ENCONTRAR EL TIEMPO DE INICIO QUE PERMITA CALENDARIZAR EL TRABAJO J, LO MAS CERCANO A 0\n",
    "        # TAL QUE SUS OPERACIONES NO COLISIONEN CON LAS OPERACIONES YA CALENDARIZADAS\n",
    "        for st in posible_start_times:\n",
    "            tmp = df[df['Job'] == j]\n",
    "            collision = is_collision(tmp, st, busy_times)\n",
    "\n",
    "            if collision == False:\n",
    "\n",
    "                # DELAY SIN COLISIONES\n",
    "                delta = st\n",
    "                break\n",
    "        \n",
    "        tmp = df[df['Job'] == j]\n",
    "        for i, operation in tmp.iterrows():\n",
    "            machine = int(operation['Machine'])\n",
    "            start = operation['Start'] + delta\n",
    "            finish = operation['Finish'] + delta\n",
    "            busy_times[machine] = busy_times[machine] | interval([start, finish])\n",
    "\n",
    "        # MODIFICAR EL CROMOSOMA, PARA QUE EL TRABAJO J = 'index' PUEDA SER CALENDARIZADO CORRECTAMENTE\n",
    "        chromosome[index][0] = int(delta)\n",
    "\n",
    "    # SI EL TIEMPO DE INICIO DEL PRIMER TRABAJO ES > 0, RECORRER TODO EL CALENDARIO A LA IZQUIERDA\n",
    "    # TAL QUE NO EXISTA UNA BRECHA ENTRE EL TIEMPO 0 Y EL TIEMPO DE INICIO DEL PRIMER TRABAJO\n",
    "    minimum = int(min(chromosome, key=lambda item: item[0])[0])\n",
    "    if minimum > 0:\n",
    "        for index in range(len(chromosome)):\n",
    "            chromosome[index][0] -= minimum\n",
    "    return chromosome"
   ]
  },
  {
   "cell_type": "code",
   "execution_count": 68,
   "metadata": {},
   "outputs": [],
   "source": [
    "def gap_remover(df2,nb_jobs,nb_machines):\n",
    "    \n",
    "    chromosome = []\n",
    "\n",
    "    df = df2.copy(deep=True)\n",
    "    \n",
    "    for j in range(nb_jobs):\n",
    "        delay = df[df['Job'] == j]['Start'].min()\n",
    "        chromosome.append((delay, j))\n",
    "\n",
    "    chromosome.sort(key=lambda item: (item[0], item[1]))\n",
    "\n",
    "    busy_times = [interval()] * nb_machines\n",
    "\n",
    "    for _,operation in df.iterrows():\n",
    "        machine = int(operation['Machine'])\n",
    "        start = operation['Start']\n",
    "        finish = operation['Finish']\n",
    "\n",
    "        busy_times[machine] = busy_times[machine] | interval([start,finish])\n",
    "\n",
    "    gap = True\n",
    "    while gap == True:\n",
    "        gap = False\n",
    "        for _,j in chromosome:\n",
    "            diff = 99999999999\n",
    "            tmp = df[df['Job'] == j]\n",
    "            for _,operation in tmp.iterrows():\n",
    "                machine = int(operation['Machine'])\n",
    "                start = operation['Start']\n",
    "                finish = operation['Finish']\n",
    "                machine_busy_times = df.query('Machine == @machine')\n",
    "\n",
    "                if start == 0:\n",
    "                    diff = 0\n",
    "                    break\n",
    "\n",
    "                if start == machine_busy_times['Start'].min():\n",
    "                    if start < diff:\n",
    "                        diff = start\n",
    "                        continue\n",
    "\n",
    "                for _, busy_time in machine_busy_times.iterrows():\n",
    "                    if start >= busy_time['Finish']:\n",
    "                        if start - busy_time['Finish'] < diff:\n",
    "                            diff = start - busy_time['Finish']\n",
    "\n",
    "            if diff != 0:\n",
    "                gap = True\n",
    "                df.loc[df['Job'] == j, 'Start'] -= diff\n",
    "                df.loc[df['Job'] == j, 'Finish'] -= diff\n",
    "\n",
    "    return [[df[df['Job'] == j]['Start'].min() ,j] for j in range(nb_jobs)]"
   ]
  },
  {
   "cell_type": "code",
   "execution_count": 69,
   "metadata": {},
   "outputs": [],
   "source": [
    "def decode(chromosome, df):\n",
    "    df = df.copy(deep=True)\n",
    "\n",
    "    for d, j in chromosome:\n",
    "        df.loc[df['Job'] == j, 'Start'] += d\n",
    "        df.loc[df['Job'] == j, 'Finish'] += d\n",
    "\n",
    "    return df"
   ]
  },
  {
   "cell_type": "code",
   "execution_count": 70,
   "metadata": {},
   "outputs": [],
   "source": [
    "def tournament_selection(population, k):\n",
    "    parents = random.choices(population, k=k)\n",
    "    parents = sorted(parents, key=lambda agent: agent.fitness, reverse=False)\n",
    "    return parents[0]"
   ]
  },
  {
   "cell_type": "markdown",
   "metadata": {},
   "source": [
    "# Obtener las cotas superiores de cada máquina"
   ]
  },
  {
   "cell_type": "code",
   "execution_count": 71,
   "metadata": {},
   "outputs": [],
   "source": [
    "def calculate_max_starts(processing_time,max_start):\n",
    "    # SUMATORIA DE TODAS LAS OPERACIONES DE CADA JOB\n",
    "    processing_times_per_job = [sum(processing_time[i]) for i in range(len(processing_time))]\n",
    "\n",
    "    # COTA SUPERIOR PARA CADA JOB\n",
    "    max_starts_of_jobs = list(map(lambda x:max_start-x, processing_times_per_job))\n",
    "\n",
    "    return max_starts_of_jobs"
   ]
  },
  {
   "cell_type": "markdown",
   "metadata": {},
   "source": [
    "# Generar un calendario donde cada trabajo inicia en tiempo 0"
   ]
  },
  {
   "cell_type": "code",
   "execution_count": 72,
   "metadata": {},
   "outputs": [],
   "source": [
    "def generate_initial_calendar(nb_jobs,nb_machines,machine_order,processing_time):\n",
    "    expanded_jobs = []\n",
    "    for j in range(nb_jobs):\n",
    "        time = 0\n",
    "        for k in range(nb_machines):\n",
    "            machine = machine_order[j][k]\n",
    "            expanded_jobs.append(\n",
    "                {'Job': j,\n",
    "                'Machine': machine,\n",
    "                'Start': time, \n",
    "                'Duration': processing_time[j][machine], \n",
    "                'Finish': time + processing_time[j][machine]}\n",
    "            )\n",
    "            time += processing_time[j][machine]\n",
    "\n",
    "    return pd.DataFrame(expanded_jobs)"
   ]
  },
  {
   "cell_type": "markdown",
   "metadata": {},
   "source": [
    "# 4. UMDAc"
   ]
  },
  {
   "cell_type": "code",
   "execution_count": 88,
   "metadata": {},
   "outputs": [],
   "source": [
    "def UMDAc(POP_SIZE,GENERATIONS,max_start,max_starts_of_jobs,nb_jobs,timetable,tournament_size,nb_machines):\n",
    "\n",
    "    # GENERANDO POBLACIÓN INICIAL\n",
    "    population = []\n",
    "\n",
    "    best_individual = Individual([[random.randint(0, max_starts_of_jobs[i]), i] for i in range(nb_jobs)])\n",
    "\n",
    "    for _ in range(POP_SIZE):\n",
    "        chromosome = [[random.randint(0, max_starts_of_jobs[i]), i] for i in range(nb_jobs)]\n",
    "        ind = Individual(chromosome)\n",
    "        population.append(ind)\n",
    "\n",
    "    for i in range(GENERATIONS):\n",
    "        new_pop = []\n",
    "        # print(f'generacion {i+1}')\n",
    "        for individual in population:\n",
    "\n",
    "            # HACER SOLUCION VALIDA\n",
    "            feasible = make_feasible_solution(individual.chromosome, timetable, nb_machines)\n",
    "            ind = Individual(feasible)\n",
    "            schedule = decode(feasible, timetable)\n",
    "            ind.fitness = schedule['Finish'].max()\n",
    "\n",
    "            if ind.fitness < best_individual.fitness:\n",
    "                best_individual = ind\n",
    "            \n",
    "            new_pop.append(ind)\n",
    "        \n",
    "        bests = []\n",
    "        for _ in range(POP_SIZE//2):\n",
    "            ind = tournament_selection(new_pop, tournament_size)\n",
    "            bests.append(ind)\n",
    "\n",
    "        bests.sort()\n",
    "\n",
    "        if new_pop[0].fitness < max_start:\n",
    "            max_start = bests[0].fitness\n",
    "\n",
    "        miu_dev = []\n",
    "        \n",
    "        for j in range(nb_jobs):\n",
    "            vals = []\n",
    "            for k in range(len(bests)):\n",
    "                vals.append(bests[k].chromosome[j][0])\n",
    "            miu = statistics.mean(vals)\n",
    "            std = statistics.stdev(vals)\n",
    "            miu_dev.append((miu, std))\n",
    "\n",
    "        population = []\n",
    "        for _ in range(POP_SIZE):\n",
    "            chromosome = [[int(truncnorm.rvs(a=0, b=max_start, loc=miu_dev[i][0], scale=miu_dev[i][1])), i] for i in range(nb_jobs)]\n",
    "            ind = Individual(chromosome)\n",
    "            population.append(ind)\n",
    "\n",
    "    return best_individual\n"
   ]
  },
  {
   "cell_type": "code",
   "execution_count": 92,
   "metadata": {},
   "outputs": [],
   "source": [
    "def test(pop_size, gen_size, runs, filename, tournament_size,bks):\n",
    "    \n",
    "    nb_jobs, nb_machines, processing_time, machine_order, max_start = read_instance(filename)\n",
    "    max_starts_of_jobs = calculate_max_starts(processing_time,max_start)\n",
    "    timetable = generate_initial_calendar(nb_jobs, nb_machines,machine_order,processing_time)\n",
    "    \n",
    "    results = []\n",
    "    times = []\n",
    "\n",
    "    for _ in range(runs):\n",
    "        begining = time.time()\n",
    "        best_individual = UMDAc(pop_size,gen_size,max_start,max_starts_of_jobs,nb_jobs,timetable,tournament_size,nb_machines)\n",
    "        end = time.time()\n",
    "        results.append(best_individual)\n",
    "        total_time = end - begining\n",
    "        times.append(total_time)\n",
    "\n",
    "    avg = np.mean([ind.fitness for ind in results])\n",
    "    std = np.std([ind.fitness for ind in results])\n",
    "    best_ind = min([ind.fitness for ind in results])\n",
    "\n",
    "    time_avg = np.mean(times)\n",
    "    time_std = np.std(times)\n",
    "    prd = ((best_ind - bks)/bks) * 100\n",
    "    aprd = ((avg - bks)/bks) * 100\n",
    "    print(f'{filename} | ({nb_jobs},{nb_machines}) | {bks} | {avg:.2f} | {std:.2f} | {time_avg:.2f} | {time_std:.2f} | {best_ind} | {prd:.2f} | {aprd:.2f}')\n",
    "    return results"
   ]
  },
  {
   "cell_type": "code",
   "execution_count": 95,
   "metadata": {},
   "outputs": [
    {
     "name": "stdout",
     "output_type": "stream",
     "text": [
      "Instance Name | (n,m) | BKS | fitness avg | fitness std | time avg | time std | best | prd | aprd\n",
      "instances/ft06.txt | (6,6) | 73 | 73.45 | 1.56 | 33.76 | 3.58 | 73 | 0.00 | 0.62\n",
      "instances/la05.txt | (10,5) | 777 | 995.40 | 20.63 | 69.42 | 3.01 | 954 | 22.78 | 28.11\n",
      "instances/ft10.txt | (10,10) | 1607 | 1871.15 | 41.35 | 139.26 | 3.37 | 1814 | 12.88 | 16.44\n",
      "instances/la40.txt | (15,15) | 2580 | 3719.40 | 170.14 | 417.52 | 64.77 | 3444 | 33.49 | 44.16\n",
      "instances/la33.txt | (30,10) | 3413 | 12639.05 | 439.02 | 331.22 | 25.36 | 11733 | 243.77 | 270.32\n"
     ]
    }
   ],
   "source": [
    "print('Instance Name | (n,m) | BKS | fitness avg | fitness std | time avg | time std | best | prd | aprd')\n",
    "ft06 = test(filename='instances/ft06.txt',gen_size=30,pop_size=60,runs=20,tournament_size=5,bks=73)\n",
    "la05 = test(filename='instances/la05.txt',gen_size=30,pop_size=60,runs=20,tournament_size=5,bks=777)\n",
    "ft10 = test(filename='instances/ft10.txt',gen_size=30,pop_size=60,runs=20,tournament_size=5,bks=1607)\n",
    "la40 = test(filename='instances/la40.txt',gen_size=30,pop_size=60,runs=20,tournament_size=5,bks=2580)\n",
    "la33 = test(filename='instances/la33.txt',gen_size=30,pop_size=60,runs=20,tournament_size=5,bks=3413)"
   ]
  },
  {
   "cell_type": "code",
   "execution_count": 94,
   "metadata": {},
   "outputs": [
    {
     "data": {
      "text/plain": [
       "[Chromsome: [[0, 0], [15, 1], [16, 2], [37, 3], [3, 4], [43, 5]], Fitness: 73,\n",
       " Chromsome: [[16, 1], [0, 0], [37, 3], [16, 2], [44, 5], [3, 4]], Fitness: 74,\n",
       " Chromsome: [[0, 0], [16, 1], [17, 2], [38, 3], [44, 5], [3, 4]], Fitness: 74]"
      ]
     },
     "execution_count": 94,
     "metadata": {},
     "output_type": "execute_result"
    }
   ],
   "source": [
    "ft06"
   ]
  },
  {
   "cell_type": "code",
   "execution_count": 86,
   "metadata": {},
   "outputs": [
    {
     "name": "stdout",
     "output_type": "stream",
     "text": [
      "generacion 1\n",
      "generacion 2\n"
     ]
    },
    {
     "ename": "KeyboardInterrupt",
     "evalue": "",
     "output_type": "error",
     "traceback": [
      "\u001b[0;31m---------------------------------------------------------------------------\u001b[0m",
      "\u001b[0;31mKeyboardInterrupt\u001b[0m                         Traceback (most recent call last)",
      "\u001b[1;32m/home/dani/repos/NWJSSP/nwjssp-umdac-morfin-orozco.ipynb Cell 19'\u001b[0m in \u001b[0;36m<module>\u001b[0;34m\u001b[0m\n\u001b[0;32m----> <a href='vscode-notebook-cell:/home/dani/repos/NWJSSP/nwjssp-umdac-morfin-orozco.ipynb#ch0000023?line=0'>1</a>\u001b[0m test(filename\u001b[39m=\u001b[39;49m\u001b[39m'\u001b[39;49m\u001b[39minstances/ft10.txt\u001b[39;49m\u001b[39m'\u001b[39;49m,gen_size\u001b[39m=\u001b[39;49m\u001b[39m4\u001b[39;49m,pop_size\u001b[39m=\u001b[39;49m\u001b[39m60\u001b[39;49m,runs\u001b[39m=\u001b[39;49m\u001b[39m2\u001b[39;49m,tournament_size\u001b[39m=\u001b[39;49m\u001b[39m5\u001b[39;49m,bks\u001b[39m=\u001b[39;49m\u001b[39m73\u001b[39;49m)\n",
      "\u001b[1;32m/home/dani/repos/NWJSSP/nwjssp-umdac-morfin-orozco.ipynb Cell 17'\u001b[0m in \u001b[0;36mtest\u001b[0;34m(pop_size, gen_size, runs, filename, tournament_size, bks)\u001b[0m\n\u001b[1;32m     <a href='vscode-notebook-cell:/home/dani/repos/NWJSSP/nwjssp-umdac-morfin-orozco.ipynb#ch0000018?line=9'>10</a>\u001b[0m \u001b[39mfor\u001b[39;00m _ \u001b[39min\u001b[39;00m \u001b[39mrange\u001b[39m(runs):\n\u001b[1;32m     <a href='vscode-notebook-cell:/home/dani/repos/NWJSSP/nwjssp-umdac-morfin-orozco.ipynb#ch0000018?line=10'>11</a>\u001b[0m     begining \u001b[39m=\u001b[39m time\u001b[39m.\u001b[39mtime()\n\u001b[0;32m---> <a href='vscode-notebook-cell:/home/dani/repos/NWJSSP/nwjssp-umdac-morfin-orozco.ipynb#ch0000018?line=11'>12</a>\u001b[0m     best_individual \u001b[39m=\u001b[39m UMDAc(pop_size,gen_size,max_start,max_starts_of_jobs,nb_jobs,timetable,tournament_size,nb_machines)\n\u001b[1;32m     <a href='vscode-notebook-cell:/home/dani/repos/NWJSSP/nwjssp-umdac-morfin-orozco.ipynb#ch0000018?line=12'>13</a>\u001b[0m     end \u001b[39m=\u001b[39m time\u001b[39m.\u001b[39mtime()\n\u001b[1;32m     <a href='vscode-notebook-cell:/home/dani/repos/NWJSSP/nwjssp-umdac-morfin-orozco.ipynb#ch0000018?line=13'>14</a>\u001b[0m     results\u001b[39m.\u001b[39mappend(best_individual)\n",
      "\u001b[1;32m/home/dani/repos/NWJSSP/nwjssp-umdac-morfin-orozco.ipynb Cell 16'\u001b[0m in \u001b[0;36mUMDAc\u001b[0;34m(POP_SIZE, GENERATIONS, max_start, max_starts_of_jobs, nb_jobs, timetable, tournament_size, nb_machines)\u001b[0m\n\u001b[1;32m     <a href='vscode-notebook-cell:/home/dani/repos/NWJSSP/nwjssp-umdac-morfin-orozco.ipynb#ch0000017?line=14'>15</a>\u001b[0m \u001b[39mprint\u001b[39m(\u001b[39mf\u001b[39m\u001b[39m'\u001b[39m\u001b[39mgeneracion \u001b[39m\u001b[39m{\u001b[39;00mi\u001b[39m+\u001b[39m\u001b[39m1\u001b[39m\u001b[39m}\u001b[39;00m\u001b[39m'\u001b[39m)\n\u001b[1;32m     <a href='vscode-notebook-cell:/home/dani/repos/NWJSSP/nwjssp-umdac-morfin-orozco.ipynb#ch0000017?line=15'>16</a>\u001b[0m \u001b[39mfor\u001b[39;00m individual \u001b[39min\u001b[39;00m population:\n\u001b[1;32m     <a href='vscode-notebook-cell:/home/dani/repos/NWJSSP/nwjssp-umdac-morfin-orozco.ipynb#ch0000017?line=16'>17</a>\u001b[0m \n\u001b[1;32m     <a href='vscode-notebook-cell:/home/dani/repos/NWJSSP/nwjssp-umdac-morfin-orozco.ipynb#ch0000017?line=17'>18</a>\u001b[0m     \u001b[39m# HACER SOLUCION VALIDA\u001b[39;00m\n\u001b[0;32m---> <a href='vscode-notebook-cell:/home/dani/repos/NWJSSP/nwjssp-umdac-morfin-orozco.ipynb#ch0000017?line=18'>19</a>\u001b[0m     feasible \u001b[39m=\u001b[39m make_feasible_solution(individual\u001b[39m.\u001b[39;49mchromosome, timetable, nb_machines)\n\u001b[1;32m     <a href='vscode-notebook-cell:/home/dani/repos/NWJSSP/nwjssp-umdac-morfin-orozco.ipynb#ch0000017?line=19'>20</a>\u001b[0m     ind \u001b[39m=\u001b[39m Individual(feasible)\n\u001b[1;32m     <a href='vscode-notebook-cell:/home/dani/repos/NWJSSP/nwjssp-umdac-morfin-orozco.ipynb#ch0000017?line=20'>21</a>\u001b[0m     schedule \u001b[39m=\u001b[39m decode(feasible, timetable)\n",
      "\u001b[1;32m/home/dani/repos/NWJSSP/nwjssp-umdac-morfin-orozco.ipynb Cell 7'\u001b[0m in \u001b[0;36mmake_feasible_solution\u001b[0;34m(chromosome, df, nb_machines)\u001b[0m\n\u001b[1;32m     <a href='vscode-notebook-cell:/home/dani/repos/NWJSSP/nwjssp-umdac-morfin-orozco.ipynb#ch0000006?line=48'>49</a>\u001b[0m \u001b[39m# ENCONTRAR EL TIEMPO DE INICIO QUE PERMITA CALENDARIZAR EL TRABAJO J, LO MAS CERCANO A 0\u001b[39;00m\n\u001b[1;32m     <a href='vscode-notebook-cell:/home/dani/repos/NWJSSP/nwjssp-umdac-morfin-orozco.ipynb#ch0000006?line=49'>50</a>\u001b[0m \u001b[39m# TAL QUE SUS OPERACIONES NO COLISIONEN CON LAS OPERACIONES YA CALENDARIZADAS\u001b[39;00m\n\u001b[1;32m     <a href='vscode-notebook-cell:/home/dani/repos/NWJSSP/nwjssp-umdac-morfin-orozco.ipynb#ch0000006?line=50'>51</a>\u001b[0m \u001b[39mfor\u001b[39;00m st \u001b[39min\u001b[39;00m posible_start_times:\n\u001b[0;32m---> <a href='vscode-notebook-cell:/home/dani/repos/NWJSSP/nwjssp-umdac-morfin-orozco.ipynb#ch0000006?line=51'>52</a>\u001b[0m     tmp \u001b[39m=\u001b[39m df[df[\u001b[39m'\u001b[39;49m\u001b[39mJob\u001b[39;49m\u001b[39m'\u001b[39;49m] \u001b[39m==\u001b[39;49m j]\n\u001b[1;32m     <a href='vscode-notebook-cell:/home/dani/repos/NWJSSP/nwjssp-umdac-morfin-orozco.ipynb#ch0000006?line=52'>53</a>\u001b[0m     collision \u001b[39m=\u001b[39m is_collision(tmp, st, busy_times)\n\u001b[1;32m     <a href='vscode-notebook-cell:/home/dani/repos/NWJSSP/nwjssp-umdac-morfin-orozco.ipynb#ch0000006?line=54'>55</a>\u001b[0m     \u001b[39mif\u001b[39;00m collision \u001b[39m==\u001b[39m \u001b[39mFalse\u001b[39;00m:\n\u001b[1;32m     <a href='vscode-notebook-cell:/home/dani/repos/NWJSSP/nwjssp-umdac-morfin-orozco.ipynb#ch0000006?line=55'>56</a>\u001b[0m \n\u001b[1;32m     <a href='vscode-notebook-cell:/home/dani/repos/NWJSSP/nwjssp-umdac-morfin-orozco.ipynb#ch0000006?line=56'>57</a>\u001b[0m         \u001b[39m# DELAY SIN COLISIONES\u001b[39;00m\n",
      "File \u001b[0;32m~/.local/lib/python3.10/site-packages/pandas/core/ops/common.py:70\u001b[0m, in \u001b[0;36m_unpack_zerodim_and_defer.<locals>.new_method\u001b[0;34m(self, other)\u001b[0m\n\u001b[1;32m     <a href='file:///home/dani/.local/lib/python3.10/site-packages/pandas/core/ops/common.py?line=65'>66</a>\u001b[0m             \u001b[39mreturn\u001b[39;00m \u001b[39mNotImplemented\u001b[39m\n\u001b[1;32m     <a href='file:///home/dani/.local/lib/python3.10/site-packages/pandas/core/ops/common.py?line=67'>68</a>\u001b[0m other \u001b[39m=\u001b[39m item_from_zerodim(other)\n\u001b[0;32m---> <a href='file:///home/dani/.local/lib/python3.10/site-packages/pandas/core/ops/common.py?line=69'>70</a>\u001b[0m \u001b[39mreturn\u001b[39;00m method(\u001b[39mself\u001b[39;49m, other)\n",
      "File \u001b[0;32m~/.local/lib/python3.10/site-packages/pandas/core/arraylike.py:40\u001b[0m, in \u001b[0;36mOpsMixin.__eq__\u001b[0;34m(self, other)\u001b[0m\n\u001b[1;32m     <a href='file:///home/dani/.local/lib/python3.10/site-packages/pandas/core/arraylike.py?line=37'>38</a>\u001b[0m \u001b[39m@unpack_zerodim_and_defer\u001b[39m(\u001b[39m\"\u001b[39m\u001b[39m__eq__\u001b[39m\u001b[39m\"\u001b[39m)\n\u001b[1;32m     <a href='file:///home/dani/.local/lib/python3.10/site-packages/pandas/core/arraylike.py?line=38'>39</a>\u001b[0m \u001b[39mdef\u001b[39;00m \u001b[39m__eq__\u001b[39m(\u001b[39mself\u001b[39m, other):\n\u001b[0;32m---> <a href='file:///home/dani/.local/lib/python3.10/site-packages/pandas/core/arraylike.py?line=39'>40</a>\u001b[0m     \u001b[39mreturn\u001b[39;00m \u001b[39mself\u001b[39;49m\u001b[39m.\u001b[39;49m_cmp_method(other, operator\u001b[39m.\u001b[39;49meq)\n",
      "File \u001b[0;32m~/.local/lib/python3.10/site-packages/pandas/core/series.py:5625\u001b[0m, in \u001b[0;36mSeries._cmp_method\u001b[0;34m(self, other, op)\u001b[0m\n\u001b[1;32m   <a href='file:///home/dani/.local/lib/python3.10/site-packages/pandas/core/series.py?line=5621'>5622</a>\u001b[0m \u001b[39mwith\u001b[39;00m np\u001b[39m.\u001b[39merrstate(\u001b[39mall\u001b[39m\u001b[39m=\u001b[39m\u001b[39m\"\u001b[39m\u001b[39mignore\u001b[39m\u001b[39m\"\u001b[39m):\n\u001b[1;32m   <a href='file:///home/dani/.local/lib/python3.10/site-packages/pandas/core/series.py?line=5622'>5623</a>\u001b[0m     res_values \u001b[39m=\u001b[39m ops\u001b[39m.\u001b[39mcomparison_op(lvalues, rvalues, op)\n\u001b[0;32m-> <a href='file:///home/dani/.local/lib/python3.10/site-packages/pandas/core/series.py?line=5624'>5625</a>\u001b[0m \u001b[39mreturn\u001b[39;00m \u001b[39mself\u001b[39;49m\u001b[39m.\u001b[39;49m_construct_result(res_values, name\u001b[39m=\u001b[39;49mres_name)\n",
      "File \u001b[0;32m~/.local/lib/python3.10/site-packages/pandas/core/series.py:3017\u001b[0m, in \u001b[0;36mSeries._construct_result\u001b[0;34m(self, result, name)\u001b[0m\n\u001b[1;32m   <a href='file:///home/dani/.local/lib/python3.10/site-packages/pandas/core/series.py?line=3012'>3013</a>\u001b[0m     \u001b[39mreturn\u001b[39;00m (res1, res2)\n\u001b[1;32m   <a href='file:///home/dani/.local/lib/python3.10/site-packages/pandas/core/series.py?line=3014'>3015</a>\u001b[0m \u001b[39m# We do not pass dtype to ensure that the Series constructor\u001b[39;00m\n\u001b[1;32m   <a href='file:///home/dani/.local/lib/python3.10/site-packages/pandas/core/series.py?line=3015'>3016</a>\u001b[0m \u001b[39m#  does inference in the case where `result` has object-dtype.\u001b[39;00m\n\u001b[0;32m-> <a href='file:///home/dani/.local/lib/python3.10/site-packages/pandas/core/series.py?line=3016'>3017</a>\u001b[0m out \u001b[39m=\u001b[39m \u001b[39mself\u001b[39;49m\u001b[39m.\u001b[39;49m_constructor(result, index\u001b[39m=\u001b[39;49m\u001b[39mself\u001b[39;49m\u001b[39m.\u001b[39;49mindex)\n\u001b[1;32m   <a href='file:///home/dani/.local/lib/python3.10/site-packages/pandas/core/series.py?line=3017'>3018</a>\u001b[0m out \u001b[39m=\u001b[39m out\u001b[39m.\u001b[39m__finalize__(\u001b[39mself\u001b[39m)\n\u001b[1;32m   <a href='file:///home/dani/.local/lib/python3.10/site-packages/pandas/core/series.py?line=3019'>3020</a>\u001b[0m \u001b[39m# Set the result's name after __finalize__ is called because __finalize__\u001b[39;00m\n\u001b[1;32m   <a href='file:///home/dani/.local/lib/python3.10/site-packages/pandas/core/series.py?line=3020'>3021</a>\u001b[0m \u001b[39m#  would set it back to self.name\u001b[39;00m\n",
      "File \u001b[0;32m~/.local/lib/python3.10/site-packages/pandas/core/series.py:442\u001b[0m, in \u001b[0;36mSeries.__init__\u001b[0;34m(self, data, index, dtype, name, copy, fastpath)\u001b[0m\n\u001b[1;32m    <a href='file:///home/dani/.local/lib/python3.10/site-packages/pandas/core/series.py?line=439'>440</a>\u001b[0m     index \u001b[39m=\u001b[39m default_index(\u001b[39mlen\u001b[39m(data))\n\u001b[1;32m    <a href='file:///home/dani/.local/lib/python3.10/site-packages/pandas/core/series.py?line=440'>441</a>\u001b[0m \u001b[39melif\u001b[39;00m is_list_like(data):\n\u001b[0;32m--> <a href='file:///home/dani/.local/lib/python3.10/site-packages/pandas/core/series.py?line=441'>442</a>\u001b[0m     com\u001b[39m.\u001b[39;49mrequire_length_match(data, index)\n\u001b[1;32m    <a href='file:///home/dani/.local/lib/python3.10/site-packages/pandas/core/series.py?line=443'>444</a>\u001b[0m \u001b[39m# create/copy the manager\u001b[39;00m\n\u001b[1;32m    <a href='file:///home/dani/.local/lib/python3.10/site-packages/pandas/core/series.py?line=444'>445</a>\u001b[0m \u001b[39mif\u001b[39;00m \u001b[39misinstance\u001b[39m(data, (SingleBlockManager, SingleArrayManager)):\n",
      "File \u001b[0;32m~/.local/lib/python3.10/site-packages/pandas/core/common.py:556\u001b[0m, in \u001b[0;36mrequire_length_match\u001b[0;34m(data, index)\u001b[0m\n\u001b[1;32m    <a href='file:///home/dani/.local/lib/python3.10/site-packages/pandas/core/common.py?line=551'>552</a>\u001b[0m \u001b[39mdef\u001b[39;00m \u001b[39mrequire_length_match\u001b[39m(data, index: Index):\n\u001b[1;32m    <a href='file:///home/dani/.local/lib/python3.10/site-packages/pandas/core/common.py?line=552'>553</a>\u001b[0m     \u001b[39m\"\"\"\u001b[39;00m\n\u001b[1;32m    <a href='file:///home/dani/.local/lib/python3.10/site-packages/pandas/core/common.py?line=553'>554</a>\u001b[0m \u001b[39m    Check the length of data matches the length of the index.\u001b[39;00m\n\u001b[1;32m    <a href='file:///home/dani/.local/lib/python3.10/site-packages/pandas/core/common.py?line=554'>555</a>\u001b[0m \u001b[39m    \"\"\"\u001b[39;00m\n\u001b[0;32m--> <a href='file:///home/dani/.local/lib/python3.10/site-packages/pandas/core/common.py?line=555'>556</a>\u001b[0m     \u001b[39mif\u001b[39;00m \u001b[39mlen\u001b[39m(data) \u001b[39m!=\u001b[39m \u001b[39mlen\u001b[39;49m(index):\n\u001b[1;32m    <a href='file:///home/dani/.local/lib/python3.10/site-packages/pandas/core/common.py?line=556'>557</a>\u001b[0m         \u001b[39mraise\u001b[39;00m \u001b[39mValueError\u001b[39;00m(\n\u001b[1;32m    <a href='file:///home/dani/.local/lib/python3.10/site-packages/pandas/core/common.py?line=557'>558</a>\u001b[0m             \u001b[39m\"\u001b[39m\u001b[39mLength of values \u001b[39m\u001b[39m\"\u001b[39m\n\u001b[1;32m    <a href='file:///home/dani/.local/lib/python3.10/site-packages/pandas/core/common.py?line=558'>559</a>\u001b[0m             \u001b[39mf\u001b[39m\u001b[39m\"\u001b[39m\u001b[39m(\u001b[39m\u001b[39m{\u001b[39;00m\u001b[39mlen\u001b[39m(data)\u001b[39m}\u001b[39;00m\u001b[39m) \u001b[39m\u001b[39m\"\u001b[39m\n\u001b[1;32m    <a href='file:///home/dani/.local/lib/python3.10/site-packages/pandas/core/common.py?line=559'>560</a>\u001b[0m             \u001b[39m\"\u001b[39m\u001b[39mdoes not match length of index \u001b[39m\u001b[39m\"\u001b[39m\n\u001b[1;32m    <a href='file:///home/dani/.local/lib/python3.10/site-packages/pandas/core/common.py?line=560'>561</a>\u001b[0m             \u001b[39mf\u001b[39m\u001b[39m\"\u001b[39m\u001b[39m(\u001b[39m\u001b[39m{\u001b[39;00m\u001b[39mlen\u001b[39m(index)\u001b[39m}\u001b[39;00m\u001b[39m)\u001b[39m\u001b[39m\"\u001b[39m\n\u001b[1;32m    <a href='file:///home/dani/.local/lib/python3.10/site-packages/pandas/core/common.py?line=561'>562</a>\u001b[0m         )\n",
      "File \u001b[0;32m~/.local/lib/python3.10/site-packages/pandas/core/indexes/range.py:909\u001b[0m, in \u001b[0;36mRangeIndex.__len__\u001b[0;34m(self)\u001b[0m\n\u001b[1;32m    <a href='file:///home/dani/.local/lib/python3.10/site-packages/pandas/core/indexes/range.py?line=904'>905</a>\u001b[0m     \u001b[39m# Here all \"indexes\" had 0 length, i.e. were empty.\u001b[39;00m\n\u001b[1;32m    <a href='file:///home/dani/.local/lib/python3.10/site-packages/pandas/core/indexes/range.py?line=905'>906</a>\u001b[0m     \u001b[39m# In this case return an empty range index.\u001b[39;00m\n\u001b[1;32m    <a href='file:///home/dani/.local/lib/python3.10/site-packages/pandas/core/indexes/range.py?line=906'>907</a>\u001b[0m     \u001b[39mreturn\u001b[39;00m RangeIndex(\u001b[39m0\u001b[39m, \u001b[39m0\u001b[39m)\u001b[39m.\u001b[39mrename(name)\n\u001b[0;32m--> <a href='file:///home/dani/.local/lib/python3.10/site-packages/pandas/core/indexes/range.py?line=908'>909</a>\u001b[0m \u001b[39mdef\u001b[39;00m \u001b[39m__len__\u001b[39m(\u001b[39mself\u001b[39m) \u001b[39m-\u001b[39m\u001b[39m>\u001b[39m \u001b[39mint\u001b[39m:\n\u001b[1;32m    <a href='file:///home/dani/.local/lib/python3.10/site-packages/pandas/core/indexes/range.py?line=909'>910</a>\u001b[0m     \u001b[39m\"\"\"\u001b[39;00m\n\u001b[1;32m    <a href='file:///home/dani/.local/lib/python3.10/site-packages/pandas/core/indexes/range.py?line=910'>911</a>\u001b[0m \u001b[39m    return the length of the RangeIndex\u001b[39;00m\n\u001b[1;32m    <a href='file:///home/dani/.local/lib/python3.10/site-packages/pandas/core/indexes/range.py?line=911'>912</a>\u001b[0m \u001b[39m    \"\"\"\u001b[39;00m\n\u001b[1;32m    <a href='file:///home/dani/.local/lib/python3.10/site-packages/pandas/core/indexes/range.py?line=912'>913</a>\u001b[0m     \u001b[39mreturn\u001b[39;00m \u001b[39mlen\u001b[39m(\u001b[39mself\u001b[39m\u001b[39m.\u001b[39m_range)\n",
      "\u001b[0;31mKeyboardInterrupt\u001b[0m: "
     ]
    }
   ],
   "source": [
    "test(filename='instances/ft10.txt',gen_size=4,pop_size=60,runs=2,tournament_size=5,bks=73)"
   ]
  },
  {
   "cell_type": "code",
   "execution_count": 22,
   "metadata": {},
   "outputs": [
    {
     "data": {
      "image/png": "[encoded data removed]",
      "text/plain": [
       "<Figure size 864x720 with 2 Axes>"
      ]
     },
     "metadata": {
      "needs_background": "light"
     },
     "output_type": "display_data"
    }
   ],
   "source": [
    "c = [[378, 0], [0, 1], [777, 2], [73, 3], [1342, 5], [560, 4], [690, 6], [1465, 9], [1115, 7], [968, 8]]\n",
    "# c = [[0, 0], [367, 1], [107, 2], [1004, 3], [517, 5], [903, 4], [1205, 6], [1449, 8], [1257, 7], [711, 9]]\n",
    "c = [[567, 0], [273, 1], [830, 2], [674, 3], [0, 4], [59, 5], [1181, 6], [1233, 7], [156, 8], [415, 9]]\n",
    "timetable = generate_initial_calendar(nb_jobs, nb_machines,machine_order,processing_time)\n",
    "df1 = decode(c,timetable)\n",
    "df2 = gap_remover(df1,nb_jobs)\n",
    "df3 = decode(df2,timetable)\n",
    "visualize(df3)"
   ]
  },
  {
   "cell_type": "code",
   "execution_count": null,
   "metadata": {},
   "outputs": [],
   "source": [
    "Instance Name | (n,m) | BKS | fitness avg | fitness std | time avg | time std | best | prd | aprd\n",
    "instances/ft06.txt | (6,6) | 73 | 73.45 | 1.56 | 33.76 | 3.58 | 73 | 0.00 | 0.62\n",
    "instances/la05.txt | (10,5) | 777 | 995.40 | 20.63 | 69.42 | 3.01 | 954 | 22.78 | 28.11\n",
    "instances/ft10.txt | (10,10) | 1607 | 1871.15 | 41.35 | 139.26 | 3.37 | 1814 | 12.88 | 16.44\n",
    "instances/la40.txt | (15,15) | 2580 | 3719.40 | 170.14 | 417.52 | 64.77 | 3444 | 33.49 | 44.16\n",
    "instances/la33.txt | (30,10) | 3413 | 12639.05 | 439.02 | 331.22 | 25.36 | 11733 | 243.77 | 270.32                                                   "
   ]
  }
 ],
 "metadata": {
  "interpreter": {
   "hash": "df0af5a0e77c77bc32352cb9e59ae9738b42a3137979606339c61c6586eaff60"
  },
  "kernelspec": {
   "display_name": "Python 3 (ipykernel)",
   "language": "python",
   "name": "python3"
  },
  "language_info": {
   "codemirror_mode": {
    "name": "ipython",
    "version": 3
   },
   "file_extension": ".py",
   "mimetype": "text/x-python",
   "name": "python",
   "nbconvert_exporter": "python",
   "pygments_lexer": "ipython3",
   "version": "3.10.4"
  }
 },
 "nbformat": 4,
 "nbformat_minor": 2
}
